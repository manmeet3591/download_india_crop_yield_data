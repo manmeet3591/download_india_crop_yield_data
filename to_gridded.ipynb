{
 "cells": [
  {
   "cell_type": "code",
   "execution_count": 2,
   "metadata": {},
   "outputs": [],
   "source": [
    "import pandas as pd\n",
    "import numpy as np"
   ]
  },
  {
   "cell_type": "code",
   "execution_count": 3,
   "metadata": {},
   "outputs": [],
   "source": [
    "crop_df = pd.read_csv(\"crop_yield_district_india_wheat.csv\")\n",
    "latlon_df = pd.read_csv(\"latlon.csv\")\n",
    "latlon_df['District'] = latlon_df['District'].str.upper()"
   ]
  },
  {
   "cell_type": "code",
   "execution_count": 4,
   "metadata": {},
   "outputs": [],
   "source": [
    "crop_df_= crop_df[~crop_df['State_Crop_District'].isnull()]"
   ]
  },
  {
   "cell_type": "code",
   "execution_count": 5,
   "metadata": {},
   "outputs": [],
   "source": [
    "#district = crop_df_[~crop_df_['Year'].isnull()]['State_Crop_District'].str.split('.')\n",
    "#district_ = []\n",
    "#for i in range(district.shape[0]-1):\n",
    "#    print(district.iloc[i][1])\n",
    "    #district_.append(district.iloc[i][1])"
   ]
  },
  {
   "cell_type": "code",
   "execution_count": 6,
   "metadata": {},
   "outputs": [
    {
     "name": "stdout",
     "output_type": "stream",
     "text": [
      "ANANTAPUR\n"
     ]
    }
   ],
   "source": [
    "File = \"all_crops.xlsx\"\n",
    "\n",
    "Data = pd.read_excel(File)\n",
    "\n",
    "s = Data.iloc[:,0]\n",
    "y = s[~s.isnull()]\n",
    "\n",
    "y.iloc[:].shape\n",
    "\n",
    "dis = y.values\n",
    "\n",
    "print(dis[0])\n",
    "\n",
    "#for d in dis:\n",
    "#    print(d)"
   ]
  },
  {
   "cell_type": "code",
   "execution_count": 7,
   "metadata": {},
   "outputs": [],
   "source": [
    "# Update names\n",
    "\n",
    "old = [\"CUD\",\"CHITTUR\",\"KARNUL\",\"DHUBURI\", \"HAZARIBAG\"]\n",
    "new = [\"KADAPA\", \"CHITTOOR\", \"KURNOOL\", \"DHUBRI\", \"HAZARIBAGH\"]\n",
    "\n",
    "for i in range(len(old)):\n",
    "    #print(old[i])\n",
    "    if latlon_df['District'].str.contains(old[i]).any():\n",
    "        idx = latlon_df[latlon_df['District'].str.contains(old[i])].index[0]\n",
    "        #print(idx)\n",
    "        latlon_df['District'][idx] = new[i]"
   ]
  },
  {
   "cell_type": "code",
   "execution_count": 38,
   "metadata": {},
   "outputs": [],
   "source": [
    "#new_rows = {'District':'MEDAK',  'lat':17.87,  'lon':78.11,   'State':\"Andhra Pradesh\"}\n",
    "#new_rows = {'District':'PRAKASAM',  'lat':15.35,  'lon':79.56,   'State':\"Andhra Pradesh\"}\n",
    "#new_rows = {'District':'RANGAREDDI',  'lat':17.39,  'lon':77.84,   'State':\"Andhra Pradesh\"}\n",
    "#new_rows = {'District':'ANJAW',  'lat':28.3,  'lon':97.0,   'State':\"Arunachal Pradesh\"}\n",
    "#new_rows = {'District':'CHANGLANG',  'lat':27.7422,  'lon':96.64,   'State':\"Arunachal Pradesh\"}\n",
    "#new_rows = {'District':'DIBANG VALLEY',  'lat':28.81,  'lon':96.15,   'State':\"Arunachal Pradesh\"}\n",
    "#new_rows = {'District':'EAST KAMENG',  'lat':27.42,  'lon':93.02,   'State':\"Arunachal Pradesh\"}\n",
    "#new_rows = {'District':'EAST SIANG',  'lat':28.11,  'lon':95.14,   'State':\"Arunachal Pradesh\"}\n",
    "#new_rows = {'District':'KURUNG KUMEY',  'lat':27.99,  'lon':93.39,   'State':\"Arunachal Pradesh\"}\n",
    "#new_rows = {'District':'LOHIT',  'lat':27.90,  'lon':96.17,   'State':\"Arunachal Pradesh\"}\n",
    "#new_rows = {'District':'LOWER DIBANG VALLEY',  'lat':28.14,  'lon':95.84,   'State':\"Arunachal Pradesh\"}\n",
    "#new_rows = {'District':'LOWER SUBANSIRI',  'lat':27.62,  'lon':93.84,   'State':\"Arunachal Pradesh\"}\n",
    "#new_rows = {'District':'NAMSAI',  'lat':27.67,  'lon':95.86,   'State':\"Arunachal Pradesh\"}\n",
    "#new_rows = {'District':'PAPUM PARE',  'lat':27.17,  'lon':93.70,   'State':\"Arunachal Pradesh\"}\n",
    "#new_rows = {'District':'TAWANG',  'lat':27.58,  'lon':91.86,   'State':\"Arunachal Pradesh\"}\n",
    "#new_rows = {'District':'TIRAP',  'lat':26.99,  'lon':95.54,   'State':\"Arunachal Pradesh\"}\n",
    "#new_rows = {'District':'UPPER SIANG',  'lat':28.76,  'lon':95.23,   'State':\"Arunachal Pradesh\"}\n",
    "#new_rows = {'District':'UPPER SUBANSIRI',  'lat':27.79,  'lon':94.34,   'State':\"Arunachal Pradesh\"}\n",
    "#new_rows = {'District':'WEST KAMENG',  'lat':27.34,  'lon':92.30,   'State':\"Arunachal Pradesh\"}\n",
    "#new_rows = {'District':'WEST SIANG',  'lat':28.15,  'lon':94.75,   'State':\"Arunachal Pradesh\"}\n",
    "#new_rows = {'District':'BAKSA',  'lat':26.70,  'lon':91.60,   'State':\"Assam\"}\n",
    "#new_rows = {'District':'CACHAR',  'lat':24.78,  'lon':92.86,   'State':\"Assam\"}\n",
    "#new_rows = {'District':'CHIRANG',  'lat':26.65,  'lon':90.64,   'State':\"Assam\"}\n",
    "#new_rows = {'District':'DARRANG',  'lat':26.45,  'lon':92.03,   'State':\"Assam\"}\n",
    "#new_rows = {'District':'DHEMAJI',  'lat':27.61,  'lon':94.77,   'State':\"Assam\"}\n",
    "#new_rows = {'District':'DIMA HASAO',  'lat':25.35,  'lon':93.02,   'State':\"Assam\"}\n",
    "#new_rows = {'District':'GOALPARA',  'lat':26.16,  'lon':90.63,   'State':\"Assam\"}\n",
    "#new_rows = {'District':'GOLAGHAT',  'lat':26.52,  'lon':93.96,   'State':\"Assam\"}\n",
    "#new_rows = {'District':'HAILAKANDI',  'lat':24.68,  'lon':92.56,   'State':\"Assam\"}\n",
    "#new_rows = {'District':'KAMRUP',  'lat':26.32,  'lon':91.60,   'State':\"Assam\"}\n",
    "#new_rows = {'District':'KAMRUP METRO',  'lat':26.08,  'lon':91.64,   'State':\"Assam\"}\n",
    "#new_rows = {'District':'KARBI ANGLONG',  'lat':25.85,  'lon':93.44,   'State':\"Assam\"}\n",
    "#new_rows = {'District':'KKOKRAJHAR',  'lat':26.40,  'lon':90.27,   'State':\"Assam\"}\n",
    "#new_rows = {'District':'MARIGAON',  'lat':26.25,  'lon':92.34,   'State':\"Assam\"}\n",
    "#new_rows = {'District':'NALBARI',  'lat':26.44,  'lon':91.44,   'State':\"Assam\"}\n",
    "#new_rows = {'District':'SIVASAGAR',  'lat':26.98,  'lon':94.64,   'State':\"Assam\"}\n",
    "#new_rows = {'District':'SONITPUR',  'lat':26.67,  'lon':92.86,   'State':\"Assam\"}\n",
    "#new_rows = {'District':'UDALGURI',  'lat':26.75,  'lon':92.10,   'State':\"Assam\"}\n",
    "#new_rows =  {'District':'ARWAL',  'lat':25.16,  'lon':84.67,   'State':\"Bihar\"}\n",
    "#new_rows = {'District':'BANKA',  'lat':24.89,  'lon':86.92,   'State':\"Bihar\"}\n",
    "#new_rows = {'District':'BHOJPUR',  'lat':25.47,  'lon':84.52,   'State':\"Bihar\"}\n",
    "#new_rows = {'District':'DEOGHAR',  'lat':24.49,  'lon':86.69,   'State':\"Jharkhand\"}\n",
    "#new_rows = {'District':'DUMKA',  'lat':24.29,  'lon':87.24,   'State':\"Jharkhand\"}\n",
    "#new_rows = {'District':'EAST SINGHBUM',  'lat':22.49,  'lon':86.5,   'State':\"Jharkhand\"}\n",
    "#new_rows = {'District':'GARHWA',  'lat':24.15,  'lon':83.80,   'State':\"Jharkhand\"}\n",
    "#new_rows = {'District':'GARHWA',  'lat':24.15,  'lon':83.80,   'State':\"Jharkhand\"}\n",
    "#new_rows = {'District':'GIRIDIH',  'lat':24.19,  'lon':86.29,   'State':\"Jharkhand\"}\n",
    "#new_rows = {'District':'GODDA',  'lat':24.82,  'lon':87.21,   'State':\"Jharkhand\"}\n",
    "#new_rows = {'District':'GUMLA',  'lat':23.04,  'lon':84.54,   'State':\"Jharkhand\"}\n",
    "#new_rows = {'District':'JEHANABAD',  'lat':25.21,  'lon':84.98,   'State':\"Jharkhand\"}\n",
    "#new_rows = {'District':'KAIMUR (BHABUA)',  'lat':25.05,  'lon':83.62,   'State':\"Jharkhand\"}\n",
    "            \n",
    "#new_rows = {'District':'GARHWA',  'lat':24.15,  'lon':83.79,   'State':\"Jharkhand\"}"
   ]
  },
  {
   "cell_type": "code",
   "execution_count": 119,
   "metadata": {},
   "outputs": [],
   "source": [
    "# Insert districts in latlon data\n",
    "\n",
    "new_rows = {'District':'MEDAK',  'lat':17.87,  'lon':78.11,   'State':\"Andhra Pradesh\"}\n",
    "new_rows = {'District':'PRAKASAM',  'lat':15.35,  'lon':79.56,   'State':\"Andhra Pradesh\"}\n",
    "new_rows = {'District':'RANGAREDDI',  'lat':17.39,  'lon':77.84,   'State':\"Andhra Pradesh\"}\n",
    "new_rows = {'District':'ANJAW',  'lat':28.3,  'lon':97.0,   'State':\"Arunachal Pradesh\"}\n",
    "new_rows = {'District':'CHANGLANG',  'lat':27.7422,  'lon':96.64,   'State':\"Arunachal Pradesh\"}\n",
    "new_rows = {'District':'DIBANG VALLEY',  'lat':28.81,  'lon':96.15,   'State':\"Arunachal Pradesh\"}\n",
    "new_rows = {'District':'EAST KAMENG',  'lat':27.42,  'lon':93.02,   'State':\"Arunachal Pradesh\"}\n",
    "new_rows = {'District':'EAST SIANG',  'lat':28.11,  'lon':95.14,   'State':\"Arunachal Pradesh\"}\n",
    "new_rows = {'District':'KURUNG KUMEY',  'lat':27.99,  'lon':93.39,   'State':\"Arunachal Pradesh\"}\n",
    "new_rows = {'District':'LOHIT',  'lat':27.90,  'lon':96.17,   'State':\"Arunachal Pradesh\"}\n",
    "new_rows = {'District':'LOWER DIBANG VALLEY',  'lat':28.14,  'lon':95.84,   'State':\"Arunachal Pradesh\"}\n",
    "new_rows = {'District':'LOWER SUBANSIRI',  'lat':27.62,  'lon':93.84,   'State':\"Arunachal Pradesh\"}\n",
    "new_rows = {'District':'NAMSAI',  'lat':27.67,  'lon':95.86,   'State':\"Arunachal Pradesh\"}\n",
    "new_rows = {'District':'PAPUM PARE',  'lat':27.17,  'lon':93.70,   'State':\"Arunachal Pradesh\"}\n",
    "new_rows = {'District':'TAWANG',  'lat':27.58,  'lon':91.86,   'State':\"Arunachal Pradesh\"}\n",
    "new_rows = {'District':'TIRAP',  'lat':26.99,  'lon':95.54,   'State':\"Arunachal Pradesh\"}\n",
    "new_rows = {'District':'UPPER SIANG',  'lat':28.76,  'lon':95.23,   'State':\"Arunachal Pradesh\"}\n",
    "new_rows = {'District':'UPPER SUBANSIRI',  'lat':27.79,  'lon':94.34,   'State':\"Arunachal Pradesh\"}\n",
    "new_rows = {'District':'WEST KAMENG',  'lat':27.34,  'lon':92.30,   'State':\"Arunachal Pradesh\"}\n",
    "new_rows = {'District':'WEST SIANG',  'lat':28.15,  'lon':94.75,   'State':\"Arunachal Pradesh\"}\n",
    "new_rows = {'District':'BAKSA',  'lat':26.70,  'lon':91.60,   'State':\"Assam\"}\n",
    "new_rows = {'District':'CACHAR',  'lat':24.78,  'lon':92.86,   'State':\"Assam\"}\n",
    "new_rows = {'District':'CHIRANG',  'lat':26.65,  'lon':90.64,   'State':\"Assam\"}\n",
    "new_rows = {'District':'DARRANG',  'lat':26.45,  'lon':92.03,   'State':\"Assam\"}\n",
    "new_rows = {'District':'DHEMAJI',  'lat':27.61,  'lon':94.77,   'State':\"Assam\"}\n",
    "new_rows = {'District':'DIMA HASAO',  'lat':25.35,  'lon':93.02,   'State':\"Assam\"}\n",
    "new_rows = {'District':'GOALPARA',  'lat':26.16,  'lon':90.63,   'State':\"Assam\"}\n",
    "new_rows = {'District':'GOLAGHAT',  'lat':26.52,  'lon':93.96,   'State':\"Assam\"}\n",
    "new_rows = {'District':'HAILAKANDI',  'lat':24.68,  'lon':92.56,   'State':\"Assam\"}\n",
    "new_rows = {'District':'KAMRUP',  'lat':26.32,  'lon':91.60,   'State':\"Assam\"}\n",
    "new_rows = {'District':'KAMRUP METRO',  'lat':26.08,  'lon':91.64,   'State':\"Assam\"}\n",
    "new_rows = {'District':'KARBI ANGLONG',  'lat':25.85,  'lon':93.44,   'State':\"Assam\"}\n",
    "new_rows = {'District':'KKOKRAJHAR',  'lat':26.40,  'lon':90.27,   'State':\"Assam\"}\n",
    "new_rows = {'District':'MARIGAON',  'lat':26.25,  'lon':92.34,   'State':\"Assam\"}\n",
    "new_rows = {'District':'NALBARI',  'lat':26.44,  'lon':91.44,   'State':\"Assam\"}\n",
    "new_rows = {'District':'SIVASAGAR',  'lat':26.98,  'lon':94.64,   'State':\"Assam\"}\n",
    "new_rows = {'District':'SONITPUR',  'lat':26.67,  'lon':92.86,   'State':\"Assam\"}\n",
    "new_rows = {'District':'UDALGURI',  'lat':26.75,  'lon':92.10,   'State':\"Assam\"}\n",
    "new_rows = {'District':'ARWAL',  'lat':25.16,  'lon':84.67,   'State':\"Bihar\"}\n",
    "new_rows = {'District':'BANKA',  'lat':24.89,  'lon':86.92,   'State':\"Bihar\"}\n",
    "new_rows = {'District':'BHOJPUR',  'lat':25.47,  'lon':84.52,   'State':\"Bihar\"}\n",
    "new_rows = {'District':'DEOGHAR',  'lat':24.49,  'lon':86.69,   'State':\"Jharkhand\"}\n",
    "new_rows = {'District':'DUMKA',  'lat':24.29,  'lon':87.24,   'State':\"Jharkhand\"}\n",
    "new_rows = {'District':'EAST SINGHBUM',  'lat':22.49,  'lon':86.5,   'State':\"Jharkhand\"}\n",
    "new_rows = {'District':'GARHWA',  'lat':24.15,  'lon':83.80,   'State':\"Jharkhand\"}\n",
    "new_rows = {'District':'GARHWA',  'lat':24.15,  'lon':83.80,   'State':\"Jharkhand\"}\n",
    "new_rows = {'District':'GIRIDIH',  'lat':24.19,  'lon':86.29,   'State':\"Jharkhand\"}\n",
    "new_rows = {'District':'GODDA',  'lat':24.82,  'lon':87.21,   'State':\"Jharkhand\"}\n",
    "new_rows = {'District':'GUMLA',  'lat':23.04,  'lon':84.54,   'State':\"Jharkhand\"}\n",
    "new_rows = {'District':'JEHANABAD',  'lat':25.21,  'lon':84.98,   'State':\"Jharkhand\"}\n",
    "new_rows = {'District':'KAIMUR (BHABUA)',  'lat':25.05,  'lon':83.62,   'State':\"Jharkhand\"}\n",
    "            \n",
    "new_rows = {'District':'GARHWA',  'lat':24.15,  'lon':83.79,   'State':\"Jharkhand\"}\n",
    "new_rows = {'District':'MEDAK',  'lat':17.87,  'lon':78.11,   'State':\"Andhra Pradesh\"}\n",
    "new_rows = {'District':'PRAKASAM',  'lat':15.35,  'lon':79.56,   'State':\"Andhra Pradesh\"}\n",
    "new_rows = {'District':'BHABUA',  'lat':25.05,  'lon':83.62,   'State':\"Andhra Pradesh\"}\n",
    "\n",
    "\n",
    "latlon_df = latlon_df.append(new_rows, ignore_index=True)\n",
    "latlon_df.drop_duplicates(keep=False, inplace=True)\n",
    "\n"
   ]
  },
  {
   "cell_type": "code",
   "execution_count": 120,
   "metadata": {},
   "outputs": [
    {
     "name": "stdout",
     "output_type": "stream",
     "text": [
      "81\n",
      "True\n",
      "False\n"
     ]
    },
    {
     "name": "stderr",
     "output_type": "stream",
     "text": [
      "/home/bhuppi/anaconda3/lib/python3.7/site-packages/ipykernel_launcher.py:3: UserWarning: This pattern has match groups. To actually get the groups, use str.extract.\n",
      "  This is separate from the ipykernel package so we can avoid doing imports until\n"
     ]
    }
   ],
   "source": [
    "print(np.where(dis==\"KAIMUR (BHABUA)\")[0][0])\n",
    "print(latlon_df['District'].str.contains(\"BHABUA\").any())\n",
    "print(latlon_df['District'].str.contains(\"KAIMUR (BHABUA)\").any())"
   ]
  },
  {
   "cell_type": "code",
   "execution_count": 121,
   "metadata": {},
   "outputs": [
    {
     "name": "stderr",
     "output_type": "stream",
     "text": [
      "/home/bhuppi/anaconda3/lib/python3.7/site-packages/ipykernel_launcher.py:5: UserWarning: This pattern has match groups. To actually get the groups, use str.extract.\n",
      "  \"\"\"\n"
     ]
    }
   ],
   "source": [
    "to_find_ = []\n",
    "for d in dis:\n",
    "    #print(latlon_df['District'].str.contains(d).any())\n",
    "    #print(dis[i])\n",
    "    if(not latlon_df['District'].str.contains(d.strip()).any()):\n",
    "        to_find_.append(d)"
   ]
  },
  {
   "cell_type": "code",
   "execution_count": 123,
   "metadata": {},
   "outputs": [
    {
     "name": "stdout",
     "output_type": "stream",
     "text": [
      "249\n",
      "KODERMA\n",
      "             District    lat    lon           State\n",
      "380           KAITHAL  29.81   76.4         Haryana\n",
      "926           KAIRANA   29.4   77.2   Uttar Pradesh\n",
      "1047  KAIMUR (BHABUA)  25.05  83.62       Jharkhand\n",
      "1051  KAIMUR (BHABUA)  25.05  83.62  Andhra Pradesh\n",
      "             District    lat    lon           State\n",
      "380           KAITHAL  29.81   76.4         Haryana\n",
      "926           KAIRANA   29.4   77.2   Uttar Pradesh\n",
      "1047  KAIMUR (BHABUA)  25.05  83.62       Jharkhand\n",
      "1051  KAIMUR (BHABUA)  25.05  83.62  Andhra Pradesh\n",
      "             District    lat    lon      State\n",
      "403         ADITYAPUR   22.8  86.04  Jharkhand\n",
      "404          BAGBAHRA  22.82   86.2  Jharkhand\n",
      "405             BHULI  23.79  86.38  Jharkhand\n",
      "406            BOKARO  23.78  85.96  Jharkhand\n",
      "407          CHAIBASA  22.56   85.8  Jharkhand\n",
      "408              CHAS  23.65  86.17  Jharkhand\n",
      "409        DALTENGANJ  24.05  84.06  Jharkhand\n",
      "410           DEVGHAR  24.49  86.69  Jharkhand\n",
      "411           DHANBAD   23.8  86.42  Jharkhand\n",
      "412        HAZARIBAGH  24.01  85.36  Jharkhand\n",
      "413        JAMSHEDPUR  22.79   86.2  Jharkhand\n",
      "414            JHARIA  23.76  86.42  Jharkhand\n",
      "415    JHUMRI TILAIYA  24.43  85.52  Jharkhand\n",
      "416        JORAPOKHAR  23.79  86.36  Jharkhand\n",
      "417            KATRAS   23.8  86.28  Jharkhand\n",
      "418         LOHARDAGA  23.43  84.68  Jharkhand\n",
      "419             MANGO  22.85  86.21  Jharkhand\n",
      "420            PHUSRO  23.68  85.86  Jharkhand\n",
      "421           RAMGARH  23.63  85.51  Jharkhand\n",
      "422            RANCHI  23.36  85.33  Jharkhand\n",
      "423         SAHIBGANJ  25.25  87.62  Jharkhand\n",
      "424            SAUNDA  23.64  85.37  Jharkhand\n",
      "425           SINDARI  23.68  86.49  Jharkhand\n",
      "1040          DEOGHAR  24.49  86.69  Jharkhand\n",
      "1041            DUMKA  24.29  87.24  Jharkhand\n",
      "1042    EAST SINGHBUM  22.49   86.5  Jharkhand\n",
      "1043          GIRIDIH  24.19  86.29  Jharkhand\n",
      "1044            GUMLA  23.04  84.54  Jharkhand\n",
      "1045            GODDA  24.82  87.21  Jharkhand\n",
      "1046        JEHANABAD  25.21  84.98  Jharkhand\n",
      "1047  KAIMUR (BHABUA)  25.05  83.62  Jharkhand\n",
      "1048           GARHWA  24.15  83.79  Jharkhand\n"
     ]
    }
   ],
   "source": [
    "print(len(to_find_))\n",
    "print(to_find_[1])\n",
    "print(latlon_df[latlon_df['District'].str.contains(to_find_[0][:3])])\n",
    "print(latlon_df[latlon_df['District'].str.contains(\"KAI\")])\n",
    "print(latlon_df[latlon_df['State'].str.contains(\"Jharkhand\")])"
   ]
  },
  {
   "cell_type": "code",
   "execution_count": 110,
   "metadata": {},
   "outputs": [
    {
     "name": "stdout",
     "output_type": "stream",
     "text": [
      "0            PORT BLAIR\n",
      "1              ADILABAD\n",
      "2                 ADONI\n",
      "3                 ALWAL\n",
      "4            ANAKAPALLE\n",
      "5             ANANTAPUR\n",
      "6               BAPATLA\n",
      "7            BELAMPALLI\n",
      "8            BHIMAVARAM\n",
      "9               BHONGIR\n",
      "10              BOBBILI\n",
      "11               BODHAN\n",
      "12       CHILAKALURUPET\n",
      "13         CHINNA CHAWK\n",
      "14              CHIRALA\n",
      "15             CHITTOOR\n",
      "16               KADAPA\n",
      "17          DHARMAVARAM\n",
      "18                DHONE\n",
      "19                ELURU\n",
      "20         GADDIANNARAM\n",
      "21               GADWAL\n",
      "22             GAJUWAKA\n",
      "23             GUDIVADA\n",
      "24                GUDUR\n",
      "25             GUNTAKAL\n",
      "26               GUNTUR\n",
      "27             HINDUPUR\n",
      "28            HYDERABAD\n",
      "29              JAGTIAL\n",
      "             ...       \n",
      "1022            DARRANG\n",
      "1023            DHEMAJI\n",
      "1024         DIMA HASAO\n",
      "1025           GOALPARA\n",
      "1026           GOLAGHAT\n",
      "1027         HAILAKANDI\n",
      "1028             KAMRUP\n",
      "1029       KAMRUP METRO\n",
      "1030      KARBI ANGLONG\n",
      "1031         KKOKRAJHAR\n",
      "1032           MARIGAON\n",
      "1033            NALBARI\n",
      "1034          SIVASAGAR\n",
      "1035           SONITPUR\n",
      "1036           UDALGURI\n",
      "1037              ARWAL\n",
      "1038              BANKA\n",
      "1039            BHOJPUR\n",
      "1040            DEOGHAR\n",
      "1041              DUMKA\n",
      "1042      EAST SINGHBUM\n",
      "1043            GIRIDIH\n",
      "1044              GUMLA\n",
      "1045              GODDA\n",
      "1046          JEHANABAD\n",
      "1047    KAIMUR (BHABUA)\n",
      "1048             GARHWA\n",
      "1049              MEDAK\n",
      "1050           PRAKASAM\n",
      "1051    KAIMUR (BHABUA)\n",
      "Name: District, Length: 1052, dtype: object\n"
     ]
    }
   ],
   "source": [
    "print(latlon_df['District'])"
   ]
  },
  {
   "cell_type": "code",
   "execution_count": null,
   "metadata": {},
   "outputs": [],
   "source": []
  },
  {
   "cell_type": "code",
   "execution_count": null,
   "metadata": {},
   "outputs": [],
   "source": []
  }
 ],
 "metadata": {
  "kernelspec": {
   "display_name": "Python 3",
   "language": "python",
   "name": "python3"
  },
  "language_info": {
   "codemirror_mode": {
    "name": "ipython",
    "version": 3
   },
   "file_extension": ".py",
   "mimetype": "text/x-python",
   "name": "python",
   "nbconvert_exporter": "python",
   "pygments_lexer": "ipython3",
   "version": "3.7.3"
  }
 },
 "nbformat": 4,
 "nbformat_minor": 2
}
